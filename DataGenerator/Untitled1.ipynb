{
 "cells": [
  {
   "cell_type": "code",
   "execution_count": 1,
   "metadata": {},
   "outputs": [],
   "source": [
    "from name_generator import generate_names,convert_name"
   ]
  },
  {
   "cell_type": "code",
   "execution_count": 2,
   "metadata": {},
   "outputs": [
    {
     "name": "stdout",
     "output_type": "stream",
     "text": [
      "Dory Harlen Bott\n",
      "f l: Dory Bott\n",
      "fi l: D Bott\n",
      "f m l: Dory Harlen Bott\n",
      "f mi l: Dory H Bott\n",
      "l, f: Bott, Dory\n",
      "l, fi: Bott, D\n",
      "l, f mi: Bott, Dory H\n",
      "l, fi mi: Bott, D H\n",
      "mix: Bott, D H\n"
     ]
    }
   ],
   "source": [
    "name = generate_names(1,\"f m l\")[0]\n",
    "formats = [\"f l\",\"fi l\",\"f m l\",\"f mi l\",\"l, f\",\"l, fi\",\"l, f mi\",\"l, fi mi\",\"mix\"]\n",
    "print(name)\n",
    "for f in formats:\n",
    "    print(f+\":\",convert_name(name,\"f m l\",f))"
   ]
  },
  {
   "cell_type": "code",
   "execution_count": 3,
   "metadata": {},
   "outputs": [],
   "source": [
    "from species_generator import generate_species,search_species,convert_format"
   ]
  },
  {
   "cell_type": "code",
   "execution_count": 4,
   "metadata": {
    "scrolled": true
   },
   "outputs": [
    {
     "name": "stdout",
     "output_type": "stream",
     "text": [
      "A. githago -> Agrostemma githago\n",
      "Akodon molinae -> A. molinae\n",
      "C. moqosus -> Carausius morosus\n",
      "Calatpea Protalifera -> C. crotalifera\n",
      "Calonectris diomedea -> C. diomedea\n",
      "Capra hyvindricornis -> C. cylindricornis\n",
      "Cephalopholis argus -> C. argus\n",
      "Clypeasted japonZcus -> C. japonicus\n",
      "D. vyriegata -> Duberria variegata\n",
      "HynthliboramOhus antiquus -> S. antiquus\n",
      "Naocirrhites armatus -> N. armatus\n",
      "Oena capensis -> O. capensis\n",
      "Penicillium citrinum -> P. citrinum\n",
      "Pinus lamberxiana -> P. lambertiana\n",
      "Rhea ameOicana -> R. americana\n",
      "SCsia aiiXormis -> S. ochracea\n",
      "Selaginella lepidophylla -> S. lepidophylla\n",
      "T. hirtd -> Tricyrtis hirta\n",
      "Tremella brvsiliUnsis -> T. brasiliensis\n",
      "srevYcoryne brasdicao -> B. brassicae\n"
     ]
    }
   ],
   "source": [
    "species = generate_species(20,True)\n",
    "for s in species:\n",
    "    print(s,\"->\",convert_format(search_species(s)))"
   ]
  },
  {
   "cell_type": "code",
   "execution_count": null,
   "metadata": {},
   "outputs": [],
   "source": []
  }
 ],
 "metadata": {
  "kernelspec": {
   "display_name": "Python 3",
   "language": "python",
   "name": "python3"
  },
  "language_info": {
   "codemirror_mode": {
    "name": "ipython",
    "version": 3
   },
   "file_extension": ".py",
   "mimetype": "text/x-python",
   "name": "python",
   "nbconvert_exporter": "python",
   "pygments_lexer": "ipython3",
   "version": "3.6.6"
  }
 },
 "nbformat": 4,
 "nbformat_minor": 2
}
