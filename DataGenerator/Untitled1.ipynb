{
 "cells": [
  {
   "cell_type": "code",
   "execution_count": 1,
   "metadata": {},
   "outputs": [],
   "source": [
    "from name_generator import generate_names,convert_name"
   ]
  },
  {
   "cell_type": "code",
   "execution_count": 2,
   "metadata": {},
   "outputs": [
    {
     "name": "stdout",
     "output_type": "stream",
     "text": [
      "Gloria Cecil Cambria\n",
      "f l: Gloria Cambria\n",
      "fi l: G Cambria\n",
      "f m l: Gloria Cecil Cambria\n",
      "f mi l: Gloria C Cambria\n",
      "l, f: Cambria, Gloria\n",
      "l, fi: Cambria, G\n",
      "l, f mi: Cambria, Gloria C\n",
      "l, fi mi: Cambria, G C\n",
      "mix: Gloria Cambria\n"
     ]
    }
   ],
   "source": [
    "name = generate_names(1,\"f m l\")[0]\n",
    "formats = [\"f l\",\"fi l\",\"f m l\",\"f mi l\",\"l, f\",\"l, fi\",\"l, f mi\",\"l, fi mi\",\"mix\"]\n",
    "print(name)\n",
    "for f in formats:\n",
    "    print(f+\":\",convert_name(name,\"f m l\",f))"
   ]
  },
  {
   "cell_type": "code",
   "execution_count": null,
   "metadata": {},
   "outputs": [],
   "source": []
  },
  {
   "cell_type": "code",
   "execution_count": null,
   "metadata": {},
   "outputs": [],
   "source": []
  }
 ],
 "metadata": {
  "kernelspec": {
   "display_name": "Python 3",
   "language": "python",
   "name": "python3"
  },
  "language_info": {
   "codemirror_mode": {
    "name": "ipython",
    "version": 3
   },
   "file_extension": ".py",
   "mimetype": "text/x-python",
   "name": "python",
   "nbconvert_exporter": "python",
   "pygments_lexer": "ipython3",
   "version": "3.6.6"
  }
 },
 "nbformat": 4,
 "nbformat_minor": 2
}
