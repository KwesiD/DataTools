{
 "cells": [
  {
   "cell_type": "code",
   "execution_count": 1,
   "metadata": {},
   "outputs": [],
   "source": [
    "from name_generator import generate_names,convert_name"
   ]
  },
  {
   "cell_type": "code",
   "execution_count": 2,
   "metadata": {},
   "outputs": [
    {
     "name": "stdout",
     "output_type": "stream",
     "text": [
      "Lianne Axel mitchell\n",
      "f l: Lianne mitchell\n",
      "fi l: L mitchell\n",
      "f m l: Lianne Axel mitchell\n",
      "f mi l: Lianne A mitchell\n",
      "l, f: mitchell, Lianne\n",
      "l, fi: mitchell, L\n",
      "l, f mi: mitchell, Lianne A\n",
      "l, fi mi: mitchell, L A\n",
      "mix: Lianne Axel mitchell\n"
     ]
    }
   ],
   "source": [
    "name = generate_names(1,\"f m l\")[0]\n",
    "formats = [\"f l\",\"fi l\",\"f m l\",\"f mi l\",\"l, f\",\"l, fi\",\"l, f mi\",\"l, fi mi\",\"mix\"]\n",
    "print(name)\n",
    "for f in formats:\n",
    "    print(f+\":\",convert_name(name,\"f m l\",f))"
   ]
  },
  {
   "cell_type": "code",
   "execution_count": 3,
   "metadata": {},
   "outputs": [],
   "source": [
    "from species_generator import generate_species,search_species,convert_format"
   ]
  },
  {
   "cell_type": "code",
   "execution_count": 7,
   "metadata": {},
   "outputs": [
    {
     "name": "stdout",
     "output_type": "stream",
     "text": [
      "BM smrrata -> Boswellia serrata\n",
      "BembiWion tmtracoyum -> B. tetracolum\n",
      "CoDmersonia bartQauia -> C. bartramia\n",
      "Colius leucocephalus -> C. leucocephalus\n",
      "DendrocopUs majoZ -> D. major\n",
      "Diplocirrus glmucus -> D. glaucus\n",
      "Drosopdila nebudhsa -> D. nebulosa\n",
      "Elaphe dione -> E. dione\n",
      "Melicytus angusticolius -> M. angustifolius\n",
      "Minuca minax -> M. minax\n",
      "Nephus quadrimaculatus -> N. quadrimaculatus\n",
      "O. ununguis -> Oligonychus ununguis\n",
      "Oncidium cheirophoOum -> O. cheirophorum\n",
      "OtuD brucei -> O. brucei\n",
      "Philodioa roqeola -> P. roseola\n",
      "Querczs acutissima -> Q. acutissima\n",
      "Rhodnius robustus -> R. robustus\n",
      "Thermoactinkmyces vulgaris -> T. vulgaris\n",
      "ZentropZs sinensis -> C. sinensis\n",
      "mtenomys sociabilis -> C. sociabilis\n",
      "E Coli -> Escherichia coli\n"
     ]
    }
   ],
   "source": [
    "#species = generate_species(20,True)\n",
    "for s in species:\n",
    "    print(s,\"->\",search_species(s))"
   ]
  },
  {
   "cell_type": "code",
   "execution_count": null,
   "metadata": {},
   "outputs": [],
   "source": []
  }
 ],
 "metadata": {
  "kernelspec": {
   "display_name": "Python 3",
   "language": "python",
   "name": "python3"
  },
  "language_info": {
   "codemirror_mode": {
    "name": "ipython",
    "version": 3
   },
   "file_extension": ".py",
   "mimetype": "text/x-python",
   "name": "python",
   "nbconvert_exporter": "python",
   "pygments_lexer": "ipython3",
   "version": "3.6.6"
  }
 },
 "nbformat": 4,
 "nbformat_minor": 2
}
