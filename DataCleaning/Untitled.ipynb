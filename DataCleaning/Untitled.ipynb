{
 "cells": [
  {
   "cell_type": "code",
   "execution_count": 2,
   "metadata": {},
   "outputs": [
    {
     "ename": "ModuleNotFoundError",
     "evalue": "No module named 'name_generator'",
     "output_type": "error",
     "traceback": [
      "\u001b[0;31m---------------------------------------------------------------------------\u001b[0m",
      "\u001b[0;31mModuleNotFoundError\u001b[0m                       Traceback (most recent call last)",
      "\u001b[0;32m<ipython-input-2-9e9da6294873>\u001b[0m in \u001b[0;36m<module>\u001b[0;34m\u001b[0m\n\u001b[1;32m      3\u001b[0m \u001b[0msys\u001b[0m\u001b[0;34m.\u001b[0m\u001b[0mpath\u001b[0m\u001b[0;34m.\u001b[0m\u001b[0minsert\u001b[0m\u001b[0;34m(\u001b[0m\u001b[0;36m0\u001b[0m\u001b[0;34m,\u001b[0m \u001b[0;34m'../DataGenerator/name_generator.py'\u001b[0m\u001b[0;34m)\u001b[0m\u001b[0;34m\u001b[0m\u001b[0m\n\u001b[1;32m      4\u001b[0m \u001b[0msys\u001b[0m\u001b[0;34m.\u001b[0m\u001b[0mpath\u001b[0m\u001b[0;34m.\u001b[0m\u001b[0minsert\u001b[0m\u001b[0;34m(\u001b[0m\u001b[0;36m0\u001b[0m\u001b[0;34m,\u001b[0m \u001b[0;34m'../DataGenerator/species_generator.py'\u001b[0m\u001b[0;34m)\u001b[0m\u001b[0;34m\u001b[0m\u001b[0m\n\u001b[0;32m----> 5\u001b[0;31m \u001b[0;32mimport\u001b[0m \u001b[0mname_generator\u001b[0m\u001b[0;34m\u001b[0m\u001b[0m\n\u001b[0m\u001b[1;32m      6\u001b[0m \u001b[0;32mimport\u001b[0m \u001b[0mspecies_generator\u001b[0m\u001b[0;34m\u001b[0m\u001b[0m\n\u001b[1;32m      7\u001b[0m \u001b[0msys\u001b[0m\u001b[0;34m.\u001b[0m\u001b[0margv\u001b[0m \u001b[0;34m=\u001b[0m \u001b[0;34m[\u001b[0m\u001b[0;34m\"\"\u001b[0m\u001b[0;34m,\u001b[0m\u001b[0;34m\"../DataGenerator/sample_patients.xlsx\"\u001b[0m\u001b[0;34m,\u001b[0m\u001b[0;34m\"-p\"\u001b[0m\u001b[0;34m,\u001b[0m\u001b[0;34m\"Pathogen\"\u001b[0m\u001b[0;34m]\u001b[0m\u001b[0;34m\u001b[0m\u001b[0m\n",
      "\u001b[0;31mModuleNotFoundError\u001b[0m: No module named 'name_generator'"
     ]
    }
   ],
   "source": [
    "import sys\n",
    "import pandas as pd\n",
    "sys.path.insert(0, '../DataGenerator/name_generator.py')\n",
    "sys.path.insert(0, '../DataGenerator/species_generator.py')\n",
    "import name_generator\n",
    "import species_generator\n",
    "sys.argv = [\"\",\"../DataGenerator/sample_patients.xlsx\",\"-p\",\"Pathogen\"]"
   ]
  },
  {
   "cell_type": "code",
   "execution_count": null,
   "metadata": {},
   "outputs": [],
   "source": [
    "def search_species(string):\n",
    "    newString = []\n",
    "    for species in string.split(\";\"):\n",
    "        newString.append(species_generator.search_species(species))\n",
    "    return \";\".join(newString)\n",
    "      \n",
    "def clean_pathogens(column):\n",
    "    for i in range(len(column)):\n",
    "        temp = column.loc[i]\n",
    "        column.loc[i] = search_species(column.loc[i]) #local search species\n",
    "        print(temp,\"->\",column.loc[i])\n",
    "        \n",
    "        \n",
    "    "
   ]
  },
  {
   "cell_type": "code",
   "execution_count": null,
   "metadata": {
    "scrolled": true
   },
   "outputs": [],
   "source": [
    "#\n",
    "modes = []\n",
    "columns = []\n",
    "for i in range(len(sys.argv)):\n",
    "    if(i == 0):\n",
    "        continue\n",
    "    if(i == 1):\n",
    "        datafile = sys.argv[i]\n",
    "        continue\n",
    "    if(sys.argv[i] in [\"-p\",\"-pathogen\"] and sys.argv[i+1]):\n",
    "        modes.append(\"pathogen\")\n",
    "        columns.append(sys.argv[i+1])\n",
    "        i += 1\n",
    "        continue\n",
    "    if(sys.argv[i] in [\"-n\",\"-name\"] and sys.argv[i+1]):\n",
    "        modes.append(\"name\")\n",
    "        columns.append(sys.argv[i+1])\n",
    "        i += 1\n",
    "        continue\n",
    "\n",
    "fileformat = datafile.split(\".\")[-1]\n",
    "if(fileformat == \"csv\"):\n",
    "    df = pd.read_csv(datafile)\n",
    "elif(fileformat in [\"xls\",\"xlsx\"]):\n",
    "    df = pd.read_excel(datafile)\n",
    "\n",
    "print(datafile)\n",
    "for mode,column in zip(modes,columns):\n",
    "    if(mode == \"pathogen\"):\n",
    "        df[column] = clean_pathogens(df[column])\n",
    "    if(mode == \"name\"):\n",
    "        df[column] = clean_names(df[column])\n",
    "\n",
    "    \n",
    "        \n",
    "        "
   ]
  },
  {
   "cell_type": "code",
   "execution_count": null,
   "metadata": {},
   "outputs": [],
   "source": []
  }
 ],
 "metadata": {
  "kernelspec": {
   "display_name": "Python 3",
   "language": "python",
   "name": "python3"
  },
  "language_info": {
   "codemirror_mode": {
    "name": "ipython",
    "version": 3
   },
   "file_extension": ".py",
   "mimetype": "text/x-python",
   "name": "python",
   "nbconvert_exporter": "python",
   "pygments_lexer": "ipython3",
   "version": "3.6.6"
  }
 },
 "nbformat": 4,
 "nbformat_minor": 2
}
