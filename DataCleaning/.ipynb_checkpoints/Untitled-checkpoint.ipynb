{
 "cells": [
  {
   "cell_type": "code",
   "execution_count": null,
   "metadata": {},
   "outputs": [],
   "source": [
    "import sys\n",
    "import pandas as pd\n",
    "sys.path.insert(0, '../DataGenerator/name_generator.py')\n",
    "sys.path.insert(0, '../DataGenerator/species_generator.py')\n"
   ]
  },
  {
   "cell_type": "code",
   "execution_count": null,
   "metadata": {},
   "outputs": [],
   "source": [
    "#\n",
    "modes = []\n",
    "columns = []\n",
    "for i in range(len(sys.argv)):\n",
    "    if(i == 0):\n",
    "        continue\n",
    "    if(i == 1):\n",
    "        datafile = sys.argv[i]\n",
    "        continue\n",
    "    if(sys.argv[i] in [\"-p\",\"-pathogen\"] and sys.argv[i+1]):\n",
    "        modes.append(\"pathogen\")\n",
    "        columns.append(sys.argv[i+1])\n",
    "        i += 1\n",
    "        continue\n",
    "    if(sys.argv[i] in [\"-n\",\"-name\"] and sys.argv[i+1]):\n",
    "        modes.append(\"name\")\n",
    "        columns.append(sys.argv[i+1])\n",
    "        i += 1\n",
    "        continue\n",
    "\n",
    "fileformat = datafile.split(\".\")[-1]\n",
    "if(fileformat == \"csv\"):\n",
    "    df = pd.read_csv(datafile)\n",
    "elif(fileformat in [\"xls\",\"xlsx\"]):\n",
    "    df = pd.read_excel(datafile)\n",
    "\n",
    "\n",
    "for mode,column in modes,columns:\n",
    "    if(mode == \"pathogen\"):\n",
    "        df[column] = clean_pathogens(df[column])\n",
    "\n",
    "    \n",
    "        \n",
    "        "
   ]
  }
 ],
 "metadata": {
  "kernelspec": {
   "display_name": "Python 3",
   "language": "python",
   "name": "python3"
  },
  "language_info": {
   "codemirror_mode": {
    "name": "ipython",
    "version": 3
   },
   "file_extension": ".py",
   "mimetype": "text/x-python",
   "name": "python",
   "nbconvert_exporter": "python",
   "pygments_lexer": "ipython3",
   "version": "3.6.6"
  }
 },
 "nbformat": 4,
 "nbformat_minor": 2
}
